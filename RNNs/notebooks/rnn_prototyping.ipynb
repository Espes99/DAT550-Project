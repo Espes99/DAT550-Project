{
 "cells": [
  {
   "cell_type": "markdown",
   "metadata": {},
   "source": [
    "# Notebook is used for quick prototyping and testing of parameters"
   ]
  },
  {
   "cell_type": "code",
   "execution_count": 2,
   "metadata": {},
   "outputs": [],
   "source": [
    "from torch.nn.utils.rnn import pad_sequence\n",
    "import torch"
   ]
  },
  {
   "cell_type": "markdown",
   "metadata": {},
   "source": [
    "### Dummy data"
   ]
  },
  {
   "cell_type": "code",
   "execution_count": 3,
   "metadata": {},
   "outputs": [],
   "source": [
    "texts = [\n",
    "    \"This paper explores deep reinforcement learning applications in robotics.\",\n",
    "    \"We investigate new quantum algorithms for physics simulations.\",\n",
    "    \"This study presents a new architecture for convolutional neural networks.\"\n",
    "]\n",
    "labels = [0, 1, 0]  # Simulate categories like [CS, Physics, CS]"
   ]
  },
  {
   "cell_type": "markdown",
   "metadata": {},
   "source": [
    "### Simulated vocab for testing (word -> index)"
   ]
  },
  {
   "cell_type": "code",
   "execution_count": 4,
   "metadata": {},
   "outputs": [],
   "source": [
    "vocab = {\n",
    "    \"this\": 1, \"paper\": 2, \"explores\": 3, \"deep\": 4, \"reinforcement\": 5, \"learning\": 6,\n",
    "    \"applications\": 7, \"in\": 8, \"robotics\": 9, \"we\": 10, \"investigate\": 11, \"new\": 12,\n",
    "    \"quantum\": 13, \"algorithms\": 14, \"for\": 15, \"physics\": 16, \"simulations\": 17\n",
    "}"
   ]
  },
  {
   "cell_type": "markdown",
   "metadata": {},
   "source": [
    "### Simple RNN preprocessing"
   ]
  },
  {
   "cell_type": "code",
   "execution_count": null,
   "metadata": {},
   "outputs": [],
   "source": [
    "def simple_tokenizer(text):\n",
    "    return [vocab.get(word.lower(), 0) for word in text.split()]\n",
    "\n",
    "tokenized = [torch.tensor(simple_tokenizer(t)) for t in texts]\n",
    "padded = pad_sequence(tokenized, batch_first=True)\n",
    "labels_tensor = torch.tensor(labels)"
   ]
  },
  {
   "cell_type": "code",
   "execution_count": null,
   "metadata": {},
   "outputs": [],
   "source": [
    "import pandas as pd\n",
    "from sklearn.model_selection import train_test_split\n",
    "\n",
    "# Load original data\n",
    "df = pd.read_csv(\"../../Data/full_arxiv.csv\")  # or use the full path \"../Data/arxiv_train.csv\"\n",
    "\n",
    "# Split features and labels\n",
    "X = df.drop(columns=['label'])\n",
    "y = df['label']\n",
    "\n",
    "# Stratified 80-20 split\n",
    "X_train, X_val, y_train, y_val = train_test_split(\n",
    "    X, y,\n",
    "    test_size=0.2,\n",
    "    stratify=y,\n",
    "    random_state=42\n",
    ")\n",
    "\n",
    "# Recombine and save to CSV\n",
    "train_df = X_train.copy()\n",
    "train_df['label'] = y_train.values\n",
    "train_df.to_csv(\"arxiv_train2.csv\", index=False)\n",
    "\n",
    "val_df = X_val.copy()\n",
    "val_df['label'] = y_val.values\n",
    "val_df.to_csv(\"arxiv_val.csv\", index=False)\n"
   ]
  }
 ],
 "metadata": {
  "kernelspec": {
   "display_name": "venv",
   "language": "python",
   "name": "python3"
  },
  "language_info": {
   "codemirror_mode": {
    "name": "ipython",
    "version": 3
   },
   "file_extension": ".py",
   "mimetype": "text/x-python",
   "name": "python",
   "nbconvert_exporter": "python",
   "pygments_lexer": "ipython3",
   "version": "3.9.12"
  }
 },
 "nbformat": 4,
 "nbformat_minor": 2
}
